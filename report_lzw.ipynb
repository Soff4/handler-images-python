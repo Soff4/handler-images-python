{
 "cells": [
  {
   "cell_type": "markdown",
   "metadata": {},
   "source": [
    "<div style=\"text-align: center;\">\n",
    "    <h2><strong>LZW стиснення та розтиснення зображень</strong></h2>\n",
    "</div>"
   ]
  },
  {
   "cell_type": "markdown",
   "metadata": {},
   "source": [
    "<div style=\"font-size: 15px; line-height: 25px;\">\n",
    "    <h3><strong>Задача окремої ланки проєкту</strong></h3>\n",
    "    <span>\n",
    "        Алгоритм LZW (Лемпель-Зів-Велч) є потужним безвтратним методом стиснення даних, який ефективно видаляє надлишковість у вхідних даних. Цей алгоритм широко застосовується у різних форматах файлів, таких як GIF, PDF та TIFF, а також у Unix-команді \"compress\". Основна ідея LZW полягає у заміні повторюваних послідовностей байтів кодами, які зберігаються у словнику. Під час стиснення алгоритм динамічно будує словник, додаючи нові послідовності у міру їх зустрічі у вхідних даних. Кожна послідовність кодується індексом у словнику, що зменшує загальний обсяг даних. Безвтратна природа LZW робить його придатним для стиснення різноманітних типів даних.\n",
    "    </span>\n",
    "</div>"
   ]
  },
  {
   "cell_type": "code",
   "execution_count": 17,
   "metadata": {},
   "outputs": [],
   "source": [
    "class LZW:\n",
    "    def compress(self, uncompressed):\n",
    "        dict_size = 256\n",
    "        dictionary = {chr(i): i for i in range(dict_size)}\n",
    "        w = \"\"\n",
    "        result = []\n",
    "        for c in uncompressed:\n",
    "            wc = w + c\n",
    "            if wc in dictionary:\n",
    "                w = wc\n",
    "            else:\n",
    "                result.append(dictionary[w])\n",
    "                dictionary[wc] = dict_size\n",
    "                dict_size += 1\n",
    "                w = c\n",
    "        if w:\n",
    "            result.append(dictionary[w])\n",
    "        return result\n",
    "\n",
    "    def decompress(self, compressed):\n",
    "        dict_size = 256\n",
    "        dictionary = {i: chr(i) for i in range(dict_size)}\n",
    "        compressed = iter(compressed)\n",
    "        w = chr(next(compressed))\n",
    "        result = [w]\n",
    "        for k in compressed:\n",
    "            if k in dictionary:\n",
    "                entry = dictionary[k]\n",
    "            elif k == dict_size:\n",
    "                entry = w + w[0]\n",
    "            else:\n",
    "                raise ValueError('Bad compressed k: %s' % k)\n",
    "            result.append(entry)\n",
    "\n",
    "            dictionary[dict_size] = w + entry[0]\n",
    "            dict_size += 1\n",
    "\n",
    "            w = entry\n",
    "        return ''.join(result)\n"
   ]
  },
  {
   "cell_type": "code",
   "execution_count": 18,
   "metadata": {},
   "outputs": [],
   "source": [
    "lzw = LZW()"
   ]
  },
  {
   "cell_type": "markdown",
   "metadata": {},
   "source": [
    "<div>\n",
    "    <h3><strong>Покроковий алгоритм кодування</strong></h3>\n",
    "    <span style=\"font-size: 15px; line-height: 25px;\">1. Ініціалізація словника з усіма можливими односимвольними рядками (у випадку з зображенням, то це символи 0-255). Словник містить 256 записів, де ключами є символи Unicode від chr(0) до chr(255), а значеннями - відповідні ASCII-коди від 0 до 255.\n",
    "</div>"
   ]
  },
  {
   "cell_type": "markdown",
   "metadata": {},
   "source": [
    "```python\n",
    "def compress(self, uncompressed):\n",
    "    dict_size = 256\n",
    "    dictionary = {chr(i): i for i in range(dict_size)}\n",
    "    w = \"\"\n",
    "    result = []\n",
    "    for c in uncompressed:\n",
    "        wc = w + c\n",
    "        if wc in dictionary:\n",
    "            w = wc\n",
    "        else:\n",
    "            result.append(dictionary[w])\n",
    "            dictionary[wc] = dict_size\n",
    "            dict_size += 1\n",
    "            w = c\n",
    "    if w:\n",
    "        result.append(dictionary[w])\n",
    "    return result\n",
    "```"
   ]
  },
  {
   "cell_type": "code",
   "execution_count": 19,
   "metadata": {},
   "outputs": [
    {
     "data": {
      "text/plain": [
       "[65, 66, 256, 67, 258, 68]"
      ]
     },
     "execution_count": 19,
     "metadata": {},
     "output_type": "execute_result"
    }
   ],
   "source": [
    "result = lzw.compress(\"ABABCABCD\")\n",
    "result"
   ]
  },
  {
   "cell_type": "markdown",
   "metadata": {},
   "source": [
    "<div style=\"font-size: 15px; line-height: 25px;\">\n",
    "    <div>\n",
    "        2. Ініціалізація порожньої рядкової змінної w та порожнього списку result для зберігання стиснених даних.\n",
    "    </div>\n",
    "    <div>\n",
    "        3. Для кожного символу c у вхідних даних uncompressed виконуються наступні дії:\n",
    "        <ol>\n",
    "            <li>Створюється рядок wc, що складається з поточного значення w та нового символу c.</li>\n",
    "            <li>Якщо wc присутній у словнику dictionary, змінна w оновлюється на wc для подальшого порівняння.</li>\n",
    "            <li>Якщо wc відсутній у словнику:</li>\n",
    "            <ul>\n",
    "                <li>Індекс поточного рядка w із словника dictionary[w] додається до списку result.</li>\n",
    "                <li>Нова послідовність wc додається до словника dictionary з новим індексом dict_size.</li>\n",
    "                <li>Розмір словника dict_size збільшується на 1.</li>\n",
    "                <li>Змінна w оновлюється на поточний символ c.</li>\n",
    "            </ul>\n",
    "            <li>Після обробки всіх символів у вхідних даних, якщо залишковий рядок w не порожній, його індекс із словника dictionary[w] також додається до списку result.</li>\n",
    "            <li>Функція повертає список result, що містить стиснені дані у вигляді індексів із словника dictionary.</li>\n",
    "        </ol>\n",
    "    </div>\n",
    "</div>"
   ]
  },
  {
   "cell_type": "markdown",
   "metadata": {},
   "source": [
    "<div style=\"font-size: 15px; line-height: 25px;\">\n",
    "    <h3><strong>Приклад виконання</strong></h3>\n",
    "    <span>Ітерація по кожному символу c у вхідному рядку \"ABABCABCD\":</span>\n",
    "    <div>\n",
    "        <br><span><b>Ітерація №1:</b> c = 'A'</span>\n",
    "        <ul>\n",
    "            <li>wc = w + c = \"\" + 'A' = \"A\"</li>\n",
    "            <li>\"A\" присутній у словнику, тому w = \"A\"</li>\n",
    "        </ul>\n",
    "    </div>\n",
    "    <div>\n",
    "        <br><span><b>Ітерація №2:</b> c = 'B'</span>\n",
    "        <ul>\n",
    "            <li>wc = w + c = \"A\" + 'B' = \"AB\"</li>\n",
    "            <li>\"AB\" відсутній у словнику, тому:</li>\n",
    "            <ul>\n",
    "                <li>result.append(dictionary[w]) => result = [65]</li>\n",
    "                <li>dictionary[\"AB\"] = dict_size => dictionary[\"AB\"] = 256</li>\n",
    "                <li>dict_size += 1 => dict_size = 257</li>\n",
    "                <li>w = 'B'</li>\n",
    "            </ul>\n",
    "        </ul>\n",
    "    </div>\n",
    "    <div>\n",
    "        <br><span><b>Ітерація №3:</b> c = 'A'</span>\n",
    "        <ul>\n",
    "            <li>wc = w + c = \"B\" + 'A' = \"BA\"</li>\n",
    "            <li>\"BA\" відсутній у словнику, тому:</li>\n",
    "            <ul>\n",
    "                <li>result.append(dictionary[w]) => result = [65, 66]</li>\n",
    "                <li>dictionary[\"BA\"] = dict_size => dictionary[\"BA\"] = 257</li>\n",
    "                <li>dict_size += 1 => dict_size = 258</li>\n",
    "                <li>w = 'A'</li>\n",
    "            </ul>\n",
    "        </ul>\n",
    "    </div>\n",
    "    <div>\n",
    "        <br><span><b>Ітерація №4:</b> c = 'B'</span>\n",
    "        <ul>\n",
    "            <li>wc = w + c = \"A\" + 'B' = \"AB\"</li>\n",
    "            <li>\"AB\" присутній у словнику, тому w = \"AB\"</li>\n",
    "        </ul>\n",
    "    </div>\n",
    "    <div>\n",
    "        <br><span><b>Ітерація №5:</b> c = 'C'</span>\n",
    "        <ul>\n",
    "            <li>wc = w + c = \"AB\" + 'C' = \"ABC\"</li>\n",
    "            <li>\"ABC\" відсутній у словнику, тому:</li>\n",
    "            <ul>\n",
    "                <li>result.append(dictionary[w]) => result = [65, 66, 256]</li>\n",
    "                <li>dictionary[\"ABC\"] = dict_size => dictionary[\"ABC\"] = 258</li>\n",
    "                <li>dict_size += 1 => dict_size = 259</li>\n",
    "                <li>w = 'C'</li>\n",
    "            </ul>\n",
    "        </ul>\n",
    "    </div>\n",
    "    <span style=\"font-size: 32px; letter-spacing: 0.125rem;\">...</span>\n",
    "    <div>\n",
    "        <br><span><b>Остання операція:</b> після обробки всіх символів залишковий рядок w = \"D\", тому:</span>\n",
    "        <ul>\n",
    "            <li>result.append(dictionary[w]) => result = [65, 66, 256, 67, 259, 258, 68]</li>\n",
    "        </ul>\n",
    "    </div>\n",
    "</div>"
   ]
  },
  {
   "cell_type": "markdown",
   "metadata": {},
   "source": [
    "<div>\n",
    "    <h3><strong>Покроковий алгоритм декодування</strong></h3>\n",
    "    <span style=\"font-size: 15px; line-height: 25px;\">1. Ініціалізація словника dictionary з усіма можливими односимвольними рядками (символами від 0 до 255), де ключами є ASCII-коди від 0 до 255, а значеннями - відповідні символи Unicode.\n",
    "</div>"
   ]
  },
  {
   "cell_type": "markdown",
   "metadata": {},
   "source": [
    "```python\n",
    "def decompress(self, compressed):\n",
    "    dict_size = 256\n",
    "    dictionary = {i: chr(i) for i in range(dict_size)}\n",
    "    compressed = iter(compressed)\n",
    "    w = chr(next(compressed))\n",
    "    result = [w]\n",
    "    for k in compressed:\n",
    "        if k in dictionary:\n",
    "            entry = dictionary[k]\n",
    "        elif k == dict_size:\n",
    "            entry = w + w[0]\n",
    "        else:\n",
    "            raise ValueError('Bad compressed k: %s' % k)\n",
    "        result.append(entry)\n",
    "\n",
    "        dictionary[dict_size] = w + entry[0]\n",
    "        dict_size += 1\n",
    "\n",
    "        w = entry\n",
    "    return ''.join(result)\n",
    "```"
   ]
  },
  {
   "cell_type": "code",
   "execution_count": 20,
   "metadata": {},
   "outputs": [
    {
     "data": {
      "text/plain": [
       "'ABABCABCD'"
      ]
     },
     "execution_count": 20,
     "metadata": {},
     "output_type": "execute_result"
    }
   ],
   "source": [
    "result = lzw.decompress([65, 66, 256, 67, 258, 68])\n",
    "result"
   ]
  },
  {
   "cell_type": "markdown",
   "metadata": {},
   "source": [
    "<div style=\"font-size: 15px; line-height: 25px;\">\n",
    "    <div>\n",
    "        2. Перетворення стиснених даних compressed на ітератор за допомогою iter(compressed).\n",
    "    </div>\n",
    "    <div>\n",
    "        3. Читання першого індексу k зі стиснених даних за допомогою next(compressed) та ініціалізація змінної w і списку result символом, що відповідає цьому індексу.\n",
    "    </div>\n",
    "    <div>\n",
    "        3. Для кожного наступного індексу k зі стиснених даних виконуються наступні дії:\n",
    "        <ol>\n",
    "            <li>Якщо k присутній у словнику dictionary, то рядок, що відповідає k (тобто dictionary[k]), присвоюється змінній entry.</li>\n",
    "            <li>Якщо k дорівнює dict_size, то entry будується як w + w[0] (тобто, поточний рядок w + перший символ цього рядка).</li>\n",
    "            <li>Якщо k не відповідає жодній з цих умов, генерується виняток ValueError.</li>\n",
    "            <li>Рядок entry додається до списку result.</li>\n",
    "            <li>У словник dictionary додається нова послідовність w + entry[0] з індексом dict_size.</li>\n",
    "            <li>Значення dict_size збільшується на 1.</li>\n",
    "            <li>Змінна w оновлюється на entry.</li>\n",
    "        </ol>\n",
    "    </div>\n",
    "    <div>\n",
    "        5. Після обробки всіх індексів зі стиснених даних функція повертає декодований вихідний рядок, отриманий з'єднанням елементів списку result за допомогою ''.join(result).\n",
    "    </div>\n",
    "</div>"
   ]
  },
  {
   "cell_type": "markdown",
   "metadata": {},
   "source": [
    "<div style=\"font-size: 15px; line-height: 25px;\">\n",
    "    <span style=\"font-size: 21px;\"><b>Короткий опис роботи</b></span><br>\n",
    "    <span>Цей алгоритм декодування відновлює вихідні дані зі стиснених індексів, використовуючи той самий принцип побудови словника, що і під час кодування. Декодер будує словник паралельно з декодуванням стиснених індексів, використовуючи попередньо декодовані рядки та перші символи нових рядків для визначення нових послідовностей у словнику.</span><br><br>\n",
    "    <span>Приклад декодування для стиснених даних compressed_data = [65, 66, 256, 67, 259, 258, 68] (які були отримані під час кодування рядка \"ABABCABCD\") за допомогою нашого коду:</span><br>\n",
    "    <ol>\n",
    "        <li>Ініціалізація словника dictionary та перетворення compressed_data на ітератор.</li>\n",
    "        <li>Читання першого індексу k = 65, відповідний символ 'A' додається до result та присвоюється w.</li>\n",
    "        <li>Наступний індекс k = 66, присутній у словнику, тому entry = 'B' додається до result.</li>\n",
    "        <li>Наступний індекс k = 256, не присутній у словнику, тому entry = w + w[0] = 'A' + 'A' = 'AA' додається до result. Нова послідовність 'AB' додається до словника з індексом dict_size = 256.</li>\n",
    "        <li>Наступний індекс k = 67, присутній у словнику, тому entry = 'C' додається до result.</li>\n",
    "        <li>Після обробки всіх індексів функція повертає з'єднаний список result = 'ABABCABCD', що є декодованим вихідним рядком.</li>\n",
    "    </ol>\n",
    "</div>"
   ]
  },
  {
   "cell_type": "markdown",
   "metadata": {},
   "source": [
    "<div>\n",
    "    <h3><strong>Тестування коду стиснення та розтиснення зображень (LZW)</strong></h3>\n",
    "</div>"
   ]
  },
  {
   "cell_type": "code",
   "execution_count": 26,
   "metadata": {},
   "outputs": [],
   "source": [
    "from PIL import Image\n",
    "import numpy as np\n",
    "\n",
    "def load_image(image_path):\n",
    "    with Image.open(image_path) as img:\n",
    "        img = img.convert(\"L\")\n",
    "        return np.array(img)\n",
    "\n",
    "def image_to_bytes(image_array):\n",
    "    return image_array.tobytes()"
   ]
  },
  {
   "cell_type": "code",
   "execution_count": 27,
   "metadata": {},
   "outputs": [],
   "source": [
    "def bytes_to_image(byte_data, image_shape):\n",
    "    image_array = np.frombuffer(byte_data, dtype=np.uint8).reshape(image_shape)\n",
    "    return Image.fromarray(image_array)"
   ]
  },
  {
   "cell_type": "code",
   "execution_count": 40,
   "metadata": {},
   "outputs": [],
   "source": [
    "def test_image_compression(image_path):\n",
    "    lzw = LZW()\n",
    "\n",
    "    original_image = load_image(image_path)\n",
    "    original_shape = original_image.shape\n",
    "    original_bytes = image_to_bytes(original_image)\n",
    "    original_size = len(original_bytes) * 8\n",
    "    compressed = lzw.compress(original_bytes.decode('latin-1'))\n",
    "    compressed_size = len(compressed) * 24\n",
    "    decompressed_bytes = lzw.decompress(compressed).encode('latin-1')\n",
    "    decompressed_image = bytes_to_image(decompressed_bytes, original_shape)\n",
    "\n",
    "    original_image = Image.fromarray(original_image)\n",
    "    original_image.save(\"original_image.png\")\n",
    "    decompressed_image.save(\"decompressed_image.png\")\n",
    "\n",
    "    if np.array_equal(np.array(original_image), np.array(decompressed_image)):\n",
    "        print(\"Compression and decompression successful, images are identical.\")\n",
    "    else:\n",
    "        print(\"Compression and decompression failed, images are not identical.\")\n",
    "        \n",
    "    practical_compression_ratio = original_size / compressed_size\n",
    "    print(f\"Практичний результат:\\n\"\n",
    "      f\"Розмір зображення: Ширина - {original_shape[1]}, Висота - {original_shape[0]}\\n\"\n",
    "      f\"Кількість бітів на оригінальне зображення: {original_size}\\n\"\n",
    "      f\"Розмір списку з закодованими значеннями - {len(compressed)}\\n\"\n",
    "      f\"Кількість бітів на закодоване зображення (3 байт на символ): {compressed_size}\\n\"\n",
    "      f\"Різниця: {original_size - compressed_size}\\n\"\n",
    "      f\"Коефіцієнт стиснення: {practical_compression_ratio}\\n\"\n",
    "      f\"Закодоване зображення займає {compressed_size / original_size * 100:.2f}% оригінального зображення\\n\")\n"
   ]
  },
  {
   "cell_type": "code",
   "execution_count": 41,
   "metadata": {},
   "outputs": [
    {
     "name": "stdout",
     "output_type": "stream",
     "text": [
      "Compression and decompression successful, images are identical.\n",
      "Практичний результат:\n",
      "Розмір зображення: Ширина - 3888, Висота - 2592\n",
      "Кількість бітів на оригінальне зображення: 80621568\n",
      "Розмір списку з закодованими значеннями - 2007775\n",
      "Кількість бітів на закодоване зображення (3 байт на символ): 48186600\n",
      "Різниця: 32434968\n",
      "Коефіцієнт стиснення: 1.6731117779631681\n",
      "Закодоване зображення займає 59.77% оригінального зображення\n",
      "\n"
     ]
    }
   ],
   "source": [
    "test_image_compression(\"./images/sea.jpg\")"
   ]
  },
  {
   "cell_type": "markdown",
   "metadata": {},
   "source": [
    "<span>Кодоване зображення:</span><br><br>\n",
    "<img src=\"./original_image.png\" alt=\"Original Image\" title=\"Original Image\" style=\"width: 50%;\">\n",
    "<br>\n",
    "<br>\n",
    "<span>Декодоване зображення: </span><br><br>\n",
    "<img src=\"./decompressed_image.png\" alt=\"Decompressed Image\" title=\"Decompressed Image\" style=\"width: 50%;\">"
   ]
  },
  {
   "cell_type": "markdown",
   "metadata": {},
   "source": [
    "<div style=\"font-size: 15px; line-height: 25px;\">\n",
    "    <h3><strong>Висновки</strong></h3>\n",
    "    <ol>\n",
    "        <li><b>Простота та надійність:</b><br><span>LZW є простим і надійним алгоритмом стиснення, що робить його відмінним вибором для багатьох застосувань, де необхідне стиснення без втрат.</span></li><br>\n",
    "        <li><b>Ефективність для певних типів зображень:</b><br><span>LZW дуже ефективний для стиснення зображень з великими однотонними областями, але менш ефективний для зображень з високим рівнем деталей або шуму.</span></li><br>\n",
    "        <li><b>Практичні результати:</b><br><span>Тестування показало, що LZW може значно зменшити розмір файлу без втрати якості, особливо для зображень з повторюваними послідовностями пікселів.</span></li><br>\n",
    "        <li><b>Порівняння з теоретичними результатами:</b><br><span>Практичні результати стиснення можуть перевищувати теоретичні очікування, що свідчить про високу ефективність алгоритму в реальних умовах.</span></li>\n",
    "    </ol>\n",
    "    <br>\n",
    "</div>"
   ]
  }
 ],
 "metadata": {
  "kernelspec": {
   "display_name": ".env",
   "language": "python",
   "name": "python3"
  },
  "language_info": {
   "codemirror_mode": {
    "name": "ipython",
    "version": 3
   },
   "file_extension": ".py",
   "mimetype": "text/x-python",
   "name": "python",
   "nbconvert_exporter": "python",
   "pygments_lexer": "ipython3",
   "version": "3.11.5"
  }
 },
 "nbformat": 4,
 "nbformat_minor": 2
}
